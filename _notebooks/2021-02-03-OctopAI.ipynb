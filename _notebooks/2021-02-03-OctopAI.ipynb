{
 "cells": [
  {
   "cell_type": "markdown",
   "metadata": {},
   "source": [
    "# \"OctopAI\"\n",
    "> \"An obstacle avoidance game to test AI\"\n",
    "- toc:true\n",
    "- branch: master\n",
    "- badges: false\n",
    "- comments: true\n",
    "- author: Krishnan Srinivasarengan\n",
    "- categories: [projects, babysteps]"
   ]
  },
  {
   "cell_type": "markdown",
   "metadata": {},
   "source": [
    "## Prelude\n",
    "\n",
    "My fascination towards octopus comes from a three-pronged attack of the intellectual, the fantastical, and the personal.\n",
    "\n",
    "- The cognitive capabilities of the cephalopods in general and the octopus in particular, are fascinating. My pet hypothesis is that, if only the octopus had evolved to live a social life and live longer, they would be ruling the underwater.\n",
    "- The tentacles from the sea have captivated human imaginations and my favourite horror story write H.P.Lovecraft's cosmic horror comes in the form of an octopus headed abomination.\n",
    "- As a scuba diver, I have had my share of encounters with the octopus that even went on to have one of them hitching a ride on my palms for a few minutes.\n",
    "\n",
    "So when I wanted to write a game that would have the ambition of training a moving object (preferably a living being) using AI, I immediately chose an octopus.\n",
    "\n",
    "<img src=\"./../images/octopAI/oct2_full.png\" alt=\"Octopus\" width=\"300\"/>"
   ]
  },
  {
   "cell_type": "markdown",
   "metadata": {},
   "source": [
    "## The inspiration: Flappy Bird AI \n",
    "\n",
    "The idea of this AI-enable octopus rests squarely on the Flappy Bird AI tutorial that I saw on YouTube at the [Tech with Time Channel](https://www.youtube.com/watch?v=MMxFDaIOHsE&list=PLzMcBGfZo4-lwGZWXz5Qgta_YNX3_vLS2). The tutorial uses the Python programming language, something I have been diving deeper into. Further, it uses Pygame for the game environment (something I'm using for the [Monty Python RPG](https://github.com/krishnans14/monty-python-holy-grail-rpg) project). It uses NEAT as the \n",
    "\n",
    "So I followed the tutorial without referring to his code on github and coded the Flappy Bird AI. Except for a couple of minor issues, it worked well out of the box.\n",
    "\n",
    "But I realized I did not want a Flappy Bird. And I also realized that I don't need to restrict the game to whatever simple stuffs we see. The idea of an Octopus came up and I decided to flex a bit of my sketching skills to develop the graphics.\n"
   ]
  },
  {
   "cell_type": "markdown",
   "metadata": {},
   "source": [
    "## AI-enabled Octopus\n",
    "\n",
    "The present version of OctopAI (as of 03-Feb-2021) has three files\n",
    "* `octopAI.py`\n",
    "* `octopAI_display_accessories.py`\n",
    "* `config-feedforward.txt`\n",
    "\n",
    "The `octopAI_display_accessories.py` contains the components necessary for the game, including the classes that form the basis of the game (`Octopus`, `Obstacle`, `Base`) and other functions. The `octopAI.py` contains the main function and also the invoking of the AI.\n",
    "\n",
    "A couple of screenshots from the game would give an idea of how things look:\n",
    "\n",
    "<img src=\"./../images/octopAI/octopAI_1.png\" alt=\"OctopAI screenshot\" align=\"left\" width=\"300\" />\n",
    "<img src=\"./../images/octopAI/octopAI_2.png\" alt=\"OctopAI screenshot\" width=\"300\"/>\n",
    "\n",
    "\n",
    "In the second screenshot, we see multiple octopi because the NEAT is a genetic algorithm and tries different instances of the octopus (with different parameters) and improves their performance over different generations. The configuration file decides on these aspects (the number of instances, how the mutation happens, etc.)\n"
   ]
  },
  {
   "cell_type": "markdown",
   "metadata": {},
   "source": [
    "## The way ahead\n",
    "\n",
    "This project is hosted on Github as [OctopAI](https://github.com/krishnans14/OctopAI). The current code as of January 2021 is working, but also differs very little from the tutorial except for the use of my own visuals. My idea is to effectively the separate the AI part and the visualization part so that I can work on them independently. \n",
    "\n",
    "I however plan to refine the entire project slowly whenever I have time. The following are the ideas I want to do.\n",
    "* The visualization part\n",
    "    * Bring in a larger screen and more complex obstacles. \n",
    "    * Apart from obstacles, we can also have specific objectives such as reaching a particular place. This might be a bit difficult in terms of the visualization. However, I can take inspiration from the [PyRat game](https://github.com/vgripon/PyRat).\n",
    "    * I can provide different types of organisms. That is, these organisms would have certain restrictions that are more closer to their real scenario. For example, an octopus versus shark (higher speed than octopus). The AI can try to train an ensemble of these different organisms (of course, I'm doing this because octopus will win against everyone because of their flexibility). \n",
    "* AI part\n",
    "    * My main motivation is to learn how to tune neural networks automatically. To this end I plan to learn and try several of them.\n",
    "    * NEAT is the starting point. I would try to look at ways to incorporate multi-criterion version of NEAT for this case (when I expand the game).\n",
    "    * Reinforcement learning is something that I'm very interested in. Especially Q-learning.\n",
    "    * I'm interested to understand if I can use [implicit layers](implicit-layers-tutorial.org/) in the neural network model to make a better performing AI overall.\n"
   ]
  }
 ],
 "metadata": {
  "kernelspec": {
   "display_name": "Python 3",
   "language": "python",
   "name": "python3"
  },
  "language_info": {
   "codemirror_mode": {
    "name": "ipython",
    "version": 3
   },
   "file_extension": ".py",
   "mimetype": "text/x-python",
   "name": "python",
   "nbconvert_exporter": "python",
   "pygments_lexer": "ipython3",
   "version": "3.8.5"
  },
  "latex_envs": {
   "LaTeX_envs_menu_present": true,
   "autoclose": false,
   "autocomplete": true,
   "bibliofile": "biblio.bib",
   "cite_by": "apalike",
   "current_citInitial": 1,
   "eqLabelWithNumbers": true,
   "eqNumInitial": 1,
   "hotkeys": {
    "equation": "Ctrl-E",
    "itemize": "Ctrl-I"
   },
   "labels_anchors": false,
   "latex_user_defs": false,
   "report_style_numbering": false,
   "user_envs_cfg": false
  },
  "toc": {
   "base_numbering": 1,
   "nav_menu": {},
   "number_sections": true,
   "sideBar": true,
   "skip_h1_title": false,
   "title_cell": "Table of Contents",
   "title_sidebar": "Contents",
   "toc_cell": false,
   "toc_position": {},
   "toc_section_display": true,
   "toc_window_display": false
  }
 },
 "nbformat": 4,
 "nbformat_minor": 4
}
