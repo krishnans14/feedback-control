{
 "cells": [
  {
   "cell_type": "markdown",
   "metadata": {},
   "source": [
    "# \"Monitron and Predictive Maintenance\"\n",
    "> \"Amazon's venture into Industry 4.0\"\n",
    "\n",
    "- toc:false\n",
    "- branch: master\n",
    "- badges: false\n",
    "- comments: true\n",
    "- author: Krishnan Srinivasarengan\n",
    "- categories: [musings, industry-watch]"
   ]
  },
  {
   "cell_type": "markdown",
   "metadata": {},
   "source": [
    "_powered by [fastpages](https://github.com/fastai/fastpages)_"
   ]
  },
  {
   "cell_type": "markdown",
   "metadata": {},
   "source": [
    "Amazon recently came up with an Industry 4.0 solution in the form of [Monitron](https://aws.amazon.com/monitron/), an end-to-end solution to install sensors, gather data from them, transfer them to AWS, perform analytics and then provide insights into what is happening."
   ]
  },
  {
   "cell_type": "markdown",
   "metadata": {},
   "source": [
    "> Note: Seems simple. Why does such a big company has to do something such a thing?"
   ]
  },
  {
   "cell_type": "markdown",
   "metadata": {},
   "source": [
    "I can't speak for Amazon, but some immediate thoughts:\n",
    "* Because they can easily do it. \n",
    "* This is a proxy to get more people to use AWS. They would have little to do to tune their ML algorithms to signals (or so they think)\n",
    "* Predictive maintenance is today's hot topic under the Industry 4.0 framework, and a lot of investment goes in to plan/avoid machine downtimes. \n",
    "* There is a hope that manufacturing will move back to the West if the manual labour required is offset by the use of AI and robots.Or at least stop some of the manufacturing from going away.\n",
    "* A lot of startups are into it. (So the cynical ones may claim that as usual Amazon is swooping in to grab the market from the small businesses)\n",
    "\n",
    "Recently, I had interactions with two startups that work on this very domain. \n",
    "1. The first one has two products: a power measurement block based end-to-end solution that provides insights into the energy consumption of buildings, industries, etc. They claim that their solution is cost-effective and has been widely adopted. The second one is a fairly recent product which has a high sampling rate sensors to provide predictive maintenance for rotating machinery such as motors, wind turbines, etc.\n",
    "1. The other has a focus on food product manufacturing (and hence still has a strong presence in the West) and how to keep their yields through predictive maintenance and optimisation.\n",
    "\n",
    "I really wanted to discuss how Monitron's entry affects them, but due to the way the interaction panned out, I didn't try my luck much. There are tons of companies that are into this kind of problems and though they have their specialized ways in accomplishing predictive maintenance tasks, Amazon's venture would definitely make things different.\n",
    "\n",
    "Back when I was working at the TCS' research arm, the main research problem on which I spent most of my time was **Source Separation**. The question is on how to disentangle the multiple sources that are responsible for the effects seen on a single or a small number of measurements. One key application problem we worked on was that of [Non-intrusive Load Monitoring (NILM)](https://en.wikipedia.org/wiki/Nonintrusive_load_monitoring), estimating the consumption of individual appliances in a household using smart meter data. I will write a lot more in detail about this problem in another post.\n",
    "\n",
    "During this time, we also floated proposals to clients on using NILM solutions for condition monitoring of industrial equipment. However, those were extremely preliminary, exploratory proposals as the data analytics domain was still getting on its feet. And there always remained a concern on how to store the large volume of data.\n",
    "\n",
    "Today, the infrastructure issues for them seem to have got sorted out. That is, cheap sensors are available, transferring this data to storage isn't a big deal with the ubiquitous availability of WiFi, Bluetooth, and the ever-growing cloud storage, the easy availability of simple ML algorithms and the beautiful visualization that the data and the analytics they generate can be put through.\n",
    "\n",
    "The question remains, however, whether the algorithms have gotten any better? Deep Learning has definitely blown away problems in a number of applications. However, it still isn't on a super-strong footing for tabular data, and more so for time-series data (training RNNs is still a challenge to overcome). And Reinforcement learning is making robots better, though its applications have been within a narrow set of applications. If the algorithms don't change much, this would be the second version of SCADA and other industrial automation tools that improved the industrial monitoring infrastructure a few decades ago (which in itself is definitely good)\n",
    "\n",
    "Time will only tell if these algorithms can overcome the challenges the control and monitoring algorithms of the previous generation, that is, trust. For my part, though, I will study them and share my opinions."
   ]
  }
 ],
 "metadata": {
  "kernelspec": {
   "display_name": "Python 3",
   "language": "python",
   "name": "python3"
  },
  "language_info": {
   "codemirror_mode": {
    "name": "ipython",
    "version": 3
   },
   "file_extension": ".py",
   "mimetype": "text/x-python",
   "name": "python",
   "nbconvert_exporter": "python",
   "pygments_lexer": "ipython3",
   "version": "3.8.5"
  },
  "toc": {
   "base_numbering": 1,
   "nav_menu": {},
   "number_sections": true,
   "sideBar": true,
   "skip_h1_title": false,
   "title_cell": "Table of Contents",
   "title_sidebar": "Contents",
   "toc_cell": false,
   "toc_position": {},
   "toc_section_display": true,
   "toc_window_display": true
  }
 },
 "nbformat": 4,
 "nbformat_minor": 4
}
