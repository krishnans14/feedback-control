{
 "cells": [
  {
   "cell_type": "markdown",
   "metadata": {},
   "source": [
    "# \"About This Blog\"\n",
    "> \"Who is post-modern control engineer and why is he writing this blog?\"\n",
    "\n",
    "- toc:false\n",
    "- branch: master\n",
    "- badges: false\n",
    "- comments: true\n",
    "- author: Krishnan Srinivasarengan\n",
    "- categories: [musings]"
   ]
  },
  {
   "cell_type": "markdown",
   "metadata": {},
   "source": [
    "_This blog is powered by [fastpages](https://github.com/fastai/fastpages) and the darkmode from [here](https://prudhvirampey.com/blog/colours/jekyll/css/fastpages/2020/10/30/hello-dark-mode.html)_"
   ]
  },
  {
   "cell_type": "markdown",
   "metadata": {},
   "source": [
    "\n",
    "## What's this blog about?\n",
    "\n",
    "My name is Krishnan Srinivasarengan and I am a post-modern-control-engineer. \n"
   ]
  },
  {
   "cell_type": "markdown",
   "metadata": {},
   "source": [
    "> Warning: There is no such a thing as post-modern-control-engineer"
   ]
  },
  {
   "cell_type": "markdown",
   "metadata": {},
   "source": [
    "True. I made it up. But for a reason. This blog is about my reactions and responses to the transition happening around the world and their relevance to the domain of control theory and applications."
   ]
  },
  {
   "cell_type": "markdown",
   "metadata": {},
   "source": [
    "\n",
    "## Who am I to write this?\n",
    "\n",
    "I have a PhD in Automatic Control. I graduated from the Université de Lorraine in 2018 having done my research under the auspices of the lab, 'Centre de Recherche en Automatique de Nancy [(CRAN)](http://www.cran.univ-lorraine.fr/)' or in English, Research Center for Automatic Control in Nancy. Further, true to the spirit of a control engineer being problem solver, I have worked in several domains solving technical problems: making telecom electronics systems work, searching for sensor faults inside a nuclear reactor core, putting the *smart* in smart grids, optimising energy in buildings, finding leaks in water distribution networks and so on. \n",
    "\n",
    "But all this doesn't necessarily qualify me, but what qualifies me the most is that I have/had strong opinions and I'm revisiting many of them, either to defend them or to relinquish them for a better one.\n"
   ]
  },
  {
   "cell_type": "markdown",
   "metadata": {},
   "source": [
    "\n",
    "## Still, what is a post-modern-control-engineer?\n",
    "\n",
    "It requires a bit of explanation (of course).\n",
    "\n",
    "Control systems engineering isn't a traditional engineering discipline such as civil, electrical or mechanical. It is more akin to computer science engineering. Computer science engineering as a discipline grew as computers became complex, not just the electronics that underlie them, but the way a fully-built computer can do millions of different tasks in a myriad number of ways. This necessitated an abstract perspective to understand computers that are neither looking at the underlying electronics nor bothered about how a lay individual used it. To put it simply, a computer science engineer aims to guarantee the computer system would provide stable, optimized performance to attain a specific task (assuming the electronics works fine and the user isn't inputting garbage).\n",
    "\n",
    "Like computer science engineering caters to the abstraction of computers, control engineering caters to the abstraction of all engineering systems. The discipline in its nascent form grew during the industrial revolution when the need to develop a stable system that guarantees certain performance became paramount ([Steam Engine Governors](https://en.wikipedia.org/wiki/Governor_(device))). And this leads to people making abstraction of these complex engineering systems. Until around the 1960s, this analysis focused on the frequency domain characteristics of the systems. The real-world system characteristics are written using differential equations and so analysing them in frequency domain meant the use of transforms ([Laplace transforms](https://en.wikipedia.org/wiki/Laplace_transform)). From the 1960s, the so-called state-space methods ushered in an era where one could directly analyze the differential equations after rewriting them in some nice form. Linear algebra started to run the show of this era referred to as the 'modern control era'.\n",
    "\n",
    "Unlike the revolution in computer science engineering leading to an explosion in the capabilities of a computer, modern control approaches found little takers outside of academia barring isolated successes (e.g., [Kalman filter](https://en.wikipedia.org/wiki/Kalman_filter)). So much so that many approaches developed in the 1940s are still widely used across many industries. For academics, it feels like walking into a computer server room to find punch cards and vacuum tubes. But for the industrial practitioners, though, the modern control theory is just unintuitive and doesn't give confidence.\n",
    "\n",
    "After almost half a decade of the modern control era, with the advent of cheap sensors and a lot of data, the control community was hoping for a change of winds. And the winds are changing. But with it came a new breed of computer science engineers who suddenly repackaged the linear algebra tools that control engineers prized and started applying them to the deluge of internet-fueled data. \"Machine Learning is just rehashed Linear Algebra\" is a common refrain. It is true, but it also appears a desperate attempt to discredit someone taking away what control engineers have long prized.\n",
    "\n",
    "As I try to be pragmatic about this situation, my interest is more on the following question\n",
    "\n"
   ]
  },
  {
   "cell_type": "markdown",
   "metadata": {},
   "source": [
    "> Note: Would the industry practitioners change in any meaningful way with this? Or would it just be a cosmetic makeup? \n"
   ]
  },
  {
   "cell_type": "markdown",
   "metadata": {},
   "source": [
    "\n",
    "Control engineering is entering a post-modern era. In some way, but starting to look at every system through the lens of data, a new discipline that merges the data-charming wizards of computer science engineering and control engineers might emerge. I'm pre-empting and calling them Post-Modern-Control-Engineer (PoMoCoE).\n",
    "\n",
    "That's why the name."
   ]
  },
  {
   "cell_type": "markdown",
   "metadata": {},
   "source": [
    "\n",
    "## Oof, so what will there be? \n",
    "\n",
    "Join me in the journey of discovery, nerding, nostalgia, rants, feedback control history, keeping in touch with control theory research, most importantly, my attempts to integrate into the AI/ML community (that means childish projects).\n",
    "\n",
    "In a way, the project, my learning, etc., would be documented as if to tell my own self a few months/years ago. And I'm willing to make mistakes and then correct them over time. In this regards, this will be a diary."
   ]
  }
 ],
 "metadata": {
  "kernelspec": {
   "display_name": "Python 3",
   "language": "python",
   "name": "python3"
  },
  "language_info": {
   "codemirror_mode": {
    "name": "ipython",
    "version": 3
   },
   "file_extension": ".py",
   "mimetype": "text/x-python",
   "name": "python",
   "nbconvert_exporter": "python",
   "pygments_lexer": "ipython3",
   "version": "3.8.5"
  },
  "toc": {
   "base_numbering": 1,
   "nav_menu": {},
   "number_sections": true,
   "sideBar": true,
   "skip_h1_title": false,
   "title_cell": "Table of Contents",
   "title_sidebar": "Contents",
   "toc_cell": false,
   "toc_position": {},
   "toc_section_display": true,
   "toc_window_display": true
  }
 },
 "nbformat": 4,
 "nbformat_minor": 4
}
