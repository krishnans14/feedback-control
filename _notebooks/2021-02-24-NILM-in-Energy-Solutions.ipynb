{
 "cells": [
  {
   "cell_type": "markdown",
   "metadata": {},
   "source": [
    "# \"Household energy providers and NILM\"\n",
    "> \"A survey of what energy providers in France do with household smart meter data\"\n",
    "\n",
    "- toc:true\n",
    "- branch: master\n",
    "- badges: false\n",
    "- comments: true\n",
    "- author: Krishnan Srinivasarengan\n",
    "- categories: [industry-watch]"
   ]
  },
  {
   "cell_type": "markdown",
   "metadata": {},
   "source": [
    "## Context\n",
    "\n",
    "My previous articles on NILM focused on the technology in itself (either through my [experience](https://krishnans14.github.io/feedback-control/projects/2020/12/30/NILM.html) or through a [survey of companies that offer NILM solution](https://krishnans14.github.io/feedback-control/industry-watch/2021/02/02/NILM-Companies.html)). In this article, I attempt to look at how energy service providers leverage NILM as part of the service they offer to the clients.\n",
    "\n",
    "Given my current presence in France and for the sake of focus, I look at the French market.\n"
   ]
  },
  {
   "cell_type": "markdown",
   "metadata": {},
   "source": [
    "##  Electricity Distribution in France\n",
    "\n",
    "France is one of the largest energy-producing and consumption markets with a unique twist: About 70% of the production comes from nuclear (and hence making the per capita CO2 emission of the country far below compared to countries of similar per capita wealth). The French electricity distribution was a government monopoly until the European directive required the market to open up for private players. This market continues to be dominated by [EDF](https://en.wikipedia.org/wiki/%C3%89lectricit%C3%A9_de_France), which holds around 70% of the share. Ever since the opening up of the distribution market a decade or so back, many other providers have started to creep up, with now more than 35 odd companies providing the distribution.\n",
    "\n",
    "When I started to understand the whole domain, I had to *unknot* many aspects. The market appears to overflow with companies of different sizes and origin. There are giants like EDF, [ENGIE](https://en.wikipedia.org/wiki/Engie), [TOTAL](https://en.wikipedia.org/wiki/Total_Direct_%C3%89nergie), [Eni](https://en.wikipedia.org/wiki/Eni) and new players like [OVO](https://www.ovoenergy.com/), [Ohm Energie](https://ohm-energie.com/). Further, companies with experience in other domains jumping in (Like Leclerc and Cdiscount now have their subsidiaries distributing electricity). A full list can be referred to here: [fournisseurs-electricite](https://www.fournisseurs-electricite.com/fournisseurs). Note that since gas distribution and electricity distribution intertwine in France, most providers offer both.\n",
    "\n",
    "The market is so crowded that there are organizations that provide help (through online chatbots) in one's ability to choose the right providers, such as [Hello watt](https://www.hellowatt.fr/), [Hope Énergie](https://www.hopenergie.com). \n"
   ]
  },
  {
   "cell_type": "markdown",
   "metadata": {},
   "source": [
    "## What's in the deal?\n",
    "\n",
    "The large spectrum of companies that offer electricity distribution owes to the opening up of the market. A small part of this also owes to the introduction of smart meters, called **Linky**. The responsibility to install these smart meters in households across France rests with the electric grid operator, [ENEDIS](https://www.enedis.fr/). Enedis is also responsible for the secure collection, transmission and storage of the data generated. This process enables the energy distribution company with which a house has a contract can have access to that data (for billing and other purposes). \n",
    "\n",
    "A good video explaining what Enedis does and how the Linky smart meters are standardized can be accessed [here](https://youtu.be/Flw-Tbb1C_k). The video is in French, though the auto-translation may help. I'm quite intrigued by the ability to standardize something like an electronic device that has to work the same way for several years across a country (that's for another time).\n",
    "\n",
    "So, what differentiates the offer from different companies?\n",
    "1. What production sources are available? Renewable, renewable+nuclear, versus everything.\n",
    "1. What's the cost per kW-hr?\n",
    "1. The type of offer based on usage-behaviour (such as weekend-focused)\n",
    "\n",
    "Beyond these, some companies insist on the country of origin of the energy sources, whereas some go hyper-local such as [Urban Solar Energy](https://www.urbansolarenergy.fr/), [Electricité de PROVENCE](https://electriciteprovence.fr/). Among these 35 odd companies, several small and independent companies offer purely renewable energy produced electricity. See for instance, [Planet OUI](https://www.planete-oui.fr/), [ilek](https://www.ilek.fr/), [ekWateur](https://ekwateur.fr/) and so on. Nearly one-third of the 35 odd companies I surveyed focused purely on renewable-energy-only production. \n",
    "\n",
    "I wondered, why are there so many players doing almost the same thing? Sure, it is easy to get into this business now and that you are almost always going to eat into the EDF market share, something that is available for everyone to take a bite. But then, this is how the startup landscape is. Get in and hope the VC money outlasts your rivals? Different companies may have different types of levers to manage the cost of the energy they supply (a great energy trading algorithm in a company or a host of energy production locked-in in another). But from a customer point-of-view, there is little separating them except for the above three factors. So, this number does not look sustainable, and it won't be long before some consolidation happens."
   ]
  },
  {
   "cell_type": "markdown",
   "metadata": {},
   "source": [
    "## NILM offerings\n",
    "\n",
    "My analysis was brief. But I was surprised at the lack of differentiating offers by any of these startups using the Linky data. These offers typically focus on the *cost* or *green* or both. It appears that since many of these companies are just setting up shop, they have nothing developed beyond the basic necessity of providing electricity connection. Several of the companies do not even have a 'Client Webspace' to check the consumption evolution. For example, OVO Energy says that their version is in beta testing (since they are a mature company from the UK, they are likely not far behind). And a review of [Bulb](https://bulb.fr/) on *hello watt* says they don't have a web client (I guess that this is redundant as the comment was from 5 months ago).\n",
    "\n",
    "So it looks like almost all companies are just starting to provide meaningful insights into the electricity consumption to clients. But we know very well that they have been doing a lot elsewhere. For example, I had referred to this [talk by Katie Russell of OVO Energy] (https://www.youtube.com/watch?v=80M3zZHFa40) in my previous NILM blog entry. She talks about her experiences on the analytics on energy data in the UK and engaging with the customers. OVO Energy now has more than a decade of experience.\n",
    "\n",
    "Even in France, EDF has been providing appliance-category-level disaggregation for a while now. Here is how mine looked for the last year:\n",
    "\n",
    "<img src=\"./../images/nilm/nilm_edf.jpg\" width=300>\n",
    "\n",
    "Apart from this, EDF also provides day by day consumption, comparison with other similar households, etc. These analytics appear straightforward. Perhaps they are, to an extent. However, one assumption here is that the client agrees to part with their data. Because, for each type of data access, the client needs to give explicit approval to companies. I can understand that EDF can provide these analytics because they already have access to a wealth of client data. So all they have to do is have a few developers and data scientists in place, and voilà, you have these nifty features. Most other companies may struggle because they would have little to no access to client data at the start to train their machine learning models. For a simple feature like 'comparison with similar households', one needs access to sufficiently many household data. For a company that is just starting up, this might be virtually impossible as they don't have data available.\n",
    "\n",
    "I think that data availability is a bottleneck. The reasoning is a bit twisted: my confidence in the abilities of some of these startups. For example, one of the NILM researchers I follow, [Oliver Parson](https://scholar.google.com/citations?user=j4EQnpwAAAAJ&hl=en), works as a Data Scientist in Bulb's UK team. So, these organizations have the capability and expertise; all they need is data (which will all come in due time). And this is another reason why I suspect consolidation is a certainty in this market. Because if there are several companies, the smart meter data also gets distributed across all these companies. Hence, only big players can provide insightful analytics (to save energy, for instance), which might become a differentiator in a crowded market with near-similar offers. And this would naturally lead to mergers."
   ]
  },
  {
   "cell_type": "markdown",
   "metadata": {},
   "source": [
    "## Some Final Thoughts\n",
    "\n",
    "Of course, I might be wrong in my assertion here. Because, my analysis was pretty superficial (limited by the lack of access to the app from each of these companies). But what is clear is that the French electricity distribution market is due for some analytics spice-up. It looks unlikely to come from the established players (EDF does not seem to offer much more than basic analytics) but can come from innovative startups and small players. If the French startups have to differentiate themselves in this regard, they have to ramp up their analytics work compared to those coming in with a lot more experience (such as OVO Energy or Bulb). \n"
   ]
  }
 ],
 "metadata": {
  "kernelspec": {
   "display_name": "Python 3",
   "language": "python",
   "name": "python3"
  },
  "language_info": {
   "codemirror_mode": {
    "name": "ipython",
    "version": 3
   },
   "file_extension": ".py",
   "mimetype": "text/x-python",
   "name": "python",
   "nbconvert_exporter": "python",
   "pygments_lexer": "ipython3",
   "version": "3.8.3"
  },
  "latex_envs": {
   "LaTeX_envs_menu_present": true,
   "autoclose": false,
   "autocomplete": true,
   "bibliofile": "biblio.bib",
   "cite_by": "apalike",
   "current_citInitial": 1,
   "eqLabelWithNumbers": true,
   "eqNumInitial": 1,
   "hotkeys": {
    "equation": "Ctrl-E",
    "itemize": "Ctrl-I"
   },
   "labels_anchors": false,
   "latex_user_defs": false,
   "report_style_numbering": false,
   "user_envs_cfg": false
  },
  "toc": {
   "base_numbering": 1,
   "nav_menu": {},
   "number_sections": true,
   "sideBar": true,
   "skip_h1_title": false,
   "title_cell": "Table of Contents",
   "title_sidebar": "Contents",
   "toc_cell": false,
   "toc_position": {},
   "toc_section_display": true,
   "toc_window_display": false
  }
 },
 "nbformat": 4,
 "nbformat_minor": 4
}
