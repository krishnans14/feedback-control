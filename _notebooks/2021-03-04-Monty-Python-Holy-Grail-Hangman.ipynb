{
 "cells": [
  {
   "cell_type": "markdown",
   "metadata": {},
   "source": [
    "# \"Holy grail hangman\"\n",
    "> \"A hangman that involves testing your Monty python Holy grail movie dialog skills\"\n",
    "\n",
    "- toc:true\n",
    "- branch: master\n",
    "- badges: false\n",
    "- comments: true\n",
    "- author: Krishnan Srinivasarengan\n",
    "- categories: [projects]"
   ]
  },
  {
   "cell_type": "markdown",
   "metadata": {},
   "source": [
    "## Context\n",
    "\n",
    "When the time came to choose a programming language, I chose Python because the name was inspired by the inimitable *Monty Python*. As a *Pythonist*, I also used Monty Python as an inspiration when I wanted to learn the Python programming language. I started working on the (now paused) [RPG based on the Monty Python holy grail movie](https://github.com/krishnans14/monty-python-holy-grail-rpg) project. I learned to play around with the `pygame` module as well as a bit about the objected-oriented aspects of Python.\n",
    "\n",
    "I had noted down a long time back that I wanted to use the contents from the remarkable website [MontyPython.net](https://www.montypython.net) in some application or the other. So when I saw a [hangman game implementation in Python on the Kite Youtube channel](https://www.youtube.com/watch?v=m4nEnsavl6w), I immediately thought that I should build a hangman, but with a Monty Python theme.\n",
    "\n",
    "This blog entry is the story of how that came about."
   ]
  },
  {
   "cell_type": "markdown",
   "metadata": {},
   "source": [
    "## Preparing the Pythoraus\n"
   ]
  },
  {
   "cell_type": "markdown",
   "metadata": {},
   "source": [
    "> Warning: Pythoraus is a word I just made up"
   ]
  },
  {
   "cell_type": "markdown",
   "metadata": {},
   "source": [
    "I wanted to say a *Python Thesaurus*, the word list that provides a pool for the game to pick words from. But, given that it would be silly to prepare a world list, I decided that it should be a quote list. The MontyPython.Net had the scripts, so all I needed now were web scraping tools.  I chose `BeautifulSoup` because I liked the name (you need to decide based on some condition).\n",
    "\n",
    "I quickly realized that making sense of the quotes from the entire Monty Python content (several movies and several seasons of the show) would be daunting. So I decided to stick to the Holy Grail movie script. Another reason tied my hands too. I found it difficult to narrow down on the popular quotes (to avoid using every dialogue or description). This is when I noticed that the website admin had done something awesome:  add audio clips to famous quotes, but only for the Holy Grail movie. So I decided to focus only on those quotes that have been given an audio file. I later added a few more quotes manually into the list generated, but, web scraping using BeautifulSoup did a great job. To make sure everything went smooth, I had to circumvent problems through some quirks, but overall, I got a nice set of quotes."
   ]
  },
  {
   "cell_type": "markdown",
   "metadata": {},
   "source": [
    "[](https://media1.tenor.com/images/291adb3c574f1c647ce6457f203c2a7d/tenor.gif?itemid=5136682)"
   ]
  },
  {
   "cell_type": "markdown",
   "metadata": {},
   "source": [
    "![](https://media1.tenor.com/images/291adb3c574f1c647ce6457f203c2a7d/tenor.gif?itemid=5136682)"
   ]
  },
  {
   "cell_type": "code",
   "execution_count": 2,
   "metadata": {},
   "outputs": [],
   "source": [
    "#hide\n",
    "import bs4\n",
    "from bs4 import BeautifulSoup\n",
    "import requests\n",
    "import re\n",
    "import sys\n",
    "sys.setrecursionlimit(10000) #to avoid issues related to max recursion depth reached"
   ]
  },
  {
   "cell_type": "markdown",
   "metadata": {},
   "source": [
    "The sources used are as follows"
   ]
  },
  {
   "cell_type": "code",
   "execution_count": 3,
   "metadata": {},
   "outputs": [],
   "source": [
    "sources = [requests.get('https://montypython.net/grailmm1.php').text,\n",
    "           requests.get('https://montypython.net/grailmm2.php').text,\n",
    "           requests.get('https://montypython.net/grailmm3.php').text]"
   ]
  },
  {
   "cell_type": "markdown",
   "metadata": {},
   "source": [
    "The following code gets the quotes into a list."
   ]
  },
  {
   "cell_type": "code",
   "execution_count": 4,
   "metadata": {},
   "outputs": [],
   "source": [
    "# Finding all the unique quotes for which there were audio clips\n",
    "monty_python_quotes = []\n",
    "quote = None\n",
    "for source in sources:\n",
    "    soup = BeautifulSoup(source, 'lxml')\n",
    "    for aa in soup.find_all('a'):\n",
    "        if 'href' in aa.attrs: #looking for only those which are hyperlinks\n",
    "            if '.wav' in  aa.attrs['href']: # We are only looking for those quotes which have an associated sound file\n",
    "                if len(aa.contents) > 1:\n",
    "                    quote = aa.contents[0]\n",
    "                else:\n",
    "                     quote = aa.contents\n",
    "\n",
    "        if quote is None:\n",
    "            pass\n",
    "        else:\n",
    "             if isinstance(quote, list):\n",
    "                    if isinstance(quote[0], bs4.element.NavigableString): # It was observed that all the valid quotes were of this type\n",
    "                        if len(quote[0].split(' ')) > 1 : # To avoid single word quotes that were mostly useless.\n",
    "                            monty_python_quotes.append(quote[0])\n",
    "\n",
    "monty_python_quotes = list(dict.fromkeys(monty_python_quotes))"
   ]
  },
  {
   "cell_type": "markdown",
   "metadata": {},
   "source": [
    "## Hangman Display - Holy Grail Style\n",
    "\n",
    "When I saw the terminal avatar of hangman, I felt that it is too generic and I needed something that captures the spirit of Monty Python. So what better than the Black Knight?\n",
    "\n",
    "<img src=\"./../images/holygrail_hangman/black_knight.png\" width=200>"
   ]
  },
  {
   "cell_type": "markdown",
   "metadata": {},
   "source": [
    "So I created a series of black knight terminal avatar in the same way he loses limbs in the movie. One arm, then the next arm, one leg and then both legs."
   ]
  },
  {
   "cell_type": "code",
   "execution_count": 6,
   "metadata": {},
   "outputs": [],
   "source": [
    "\n",
    "def display_black_knight(state):\n",
    "    knight = [\n",
    "                \"\"\"\n",
    "            \"You lost. I'm off to cross the bridge\"\n",
    "\n",
    "\n",
    "                  O\n",
    "                  |\n",
    "\n",
    "\n",
    "\n",
    "                \"\"\",\n",
    "                \"\"\"\n",
    "            \"You loose both your legs. I won't call it a draw\"\n",
    "                  _\n",
    "                 | |\n",
    "                  O\n",
    "                  |\n",
    "\n",
    "\n",
    "\n",
    "                \"\"\",\n",
    "                \"\"\"\n",
    "            \"A single-legged knight?\"\n",
    "                  _\n",
    "                 | |\n",
    "                  O\n",
    "                  |\n",
    "                  |\n",
    "                 /\n",
    "\n",
    "                \"\"\",\n",
    "                \"\"\"\n",
    "            \"Now you got no hands\"\n",
    "                  _\n",
    "                 | |\n",
    "                  O\n",
    "                  |\n",
    "                  |\n",
    "                 / \\\\\n",
    "\n",
    "                \"\"\",\n",
    "                \"\"\"\n",
    "            \"Ouch! You lose your sword hand\"\n",
    "                  _\n",
    "                 | |\n",
    "                  O\n",
    "                  |\\\\\n",
    "                  |\n",
    "                 / \\\\\n",
    "\n",
    "                \"\"\",\n",
    "                \"\"\"\n",
    "            \"You are the Black knight\"\n",
    "                  _\n",
    "                 | |\n",
    "                  O\n",
    "                \\\\/|\\\\\n",
    "                  |\n",
    "                 / \\\\\n",
    "\n",
    "                \"\"\"\n",
    "    ]\n",
    "    return knight[state]"
   ]
  },
  {
   "cell_type": "markdown",
   "metadata": {},
   "source": [
    "Awesome, isn't it? Well, at least I feel so. And I also added quotes on top."
   ]
  },
  {
   "cell_type": "markdown",
   "metadata": {},
   "source": [
    "The game provides the player with 5 guesses (if one feels an expert, they can go for the expert model with 3 chances). You can get the rest of the code here in the [github repository](https://github.com/krishnans14/monty-python-holygrail-hangman). \n",
    "\n",
    "And below is the case when I go through all stages of the black knight state and lose:"
   ]
  },
  {
   "cell_type": "markdown",
   "metadata": {},
   "source": [
    "<img src=\"./../images/holygrail_hangman/game_lost.gif\">\n",
    "\n",
    "\n",
    "And here I win.\n",
    "\n",
    "![](./../images/holygrail_hangman/game_lost.gif)"
   ]
  },
  {
   "cell_type": "markdown",
   "metadata": {},
   "source": [
    "## Final Remarks\n",
    "\n",
    "I took some time to write this blog entry because I hoped to finish an ipython-widget-based version of the game (hence everyone can play the game using binder). But it got stuck in some technicalities (and I still have to figure out if everything I want to do will work well with the widgets). So until I get that up and running, you have no other choice but to download the code from the repository and play the game.\n",
    "\n",
    "Have fun."
   ]
  }
 ],
 "metadata": {
  "kernelspec": {
   "display_name": "Python 3",
   "language": "python",
   "name": "python3"
  },
  "language_info": {
   "codemirror_mode": {
    "name": "ipython",
    "version": 3
   },
   "file_extension": ".py",
   "mimetype": "text/x-python",
   "name": "python",
   "nbconvert_exporter": "python",
   "pygments_lexer": "ipython3",
   "version": "3.8.3"
  },
  "latex_envs": {
   "LaTeX_envs_menu_present": true,
   "autoclose": false,
   "autocomplete": true,
   "bibliofile": "biblio.bib",
   "cite_by": "apalike",
   "current_citInitial": 1,
   "eqLabelWithNumbers": true,
   "eqNumInitial": 1,
   "hotkeys": {
    "equation": "Ctrl-E",
    "itemize": "Ctrl-I"
   },
   "labels_anchors": false,
   "latex_user_defs": false,
   "report_style_numbering": false,
   "user_envs_cfg": false
  },
  "toc": {
   "base_numbering": 1,
   "nav_menu": {},
   "number_sections": true,
   "sideBar": true,
   "skip_h1_title": false,
   "title_cell": "Table of Contents",
   "title_sidebar": "Contents",
   "toc_cell": false,
   "toc_position": {
    "height": "calc(100% - 180px)",
    "left": "10px",
    "top": "150px",
    "width": "232.667px"
   },
   "toc_section_display": true,
   "toc_window_display": true
  }
 },
 "nbformat": 4,
 "nbformat_minor": 4
}
