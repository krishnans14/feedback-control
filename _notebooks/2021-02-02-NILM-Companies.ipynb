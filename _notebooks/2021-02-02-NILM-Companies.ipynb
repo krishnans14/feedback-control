{
 "cells": [
  {
   "cell_type": "markdown",
   "metadata": {},
   "source": [
    "# \"NILM in the industry\"\n",
    "> \"A brief look at the companies that provide NILM based solutions\"\n",
    "\n",
    "- toc:true\n",
    "- branch: master\n",
    "- badges: false\n",
    "- comments: true\n",
    "- author: Krishnan Srinivasarengan\n",
    "- categories: [industry-watch]"
   ]
  },
  {
   "cell_type": "markdown",
   "metadata": {},
   "source": [
    "## Context\n",
    "\n",
    "NILM stands for Non-Intrusive Load Monitoring, is the term used to refer to the ability to extract rich information about electrical loads in infrastructure through the use of data analytics. It is part of the genre of problems in Signal processing, Source Separation. In its simplest form, NILM is an intractable inverse problem. That is, like solving the following equation:\n",
    "$$ A+B+C = 33 $$\n",
    "\n",
    "And as one can readily see, this problem has infinitely many solutions. But what if we have multiple measurements when one or more of $A, B, C$ are not present? \n",
    "\n",
    "This is what NILM algorithms try to do. The use of this has been promising in disaggregating the energy consumption of appliances from smart meter data. The problem's origin in an application has kept industries interested. I worked on this problem back in 2012-14.\n",
    "\n",
    "Back in the early days of NILM, [Oliver Parson wrote a blog article](https://blog.oliverparson.co.uk/2012/05/nialm-in-industry.html) listing the companies that work on this problem. A recent interaction I had with an NILM company motivated me to have a look at what the status of the industry is.\n"
   ]
  },
  {
   "cell_type": "markdown",
   "metadata": {},
   "source": [
    "##  Household disaggregation\n",
    "\n",
    "When I worked on this problem back in the 2012-14 period, the NILM solutions focused on the household data. The then-impending installation of smart meters across much of Europe and the US was a big motivation. The analytics that can open up different insights and services for customers went through a rush before settling down. Most data collected now are in the range of a sample every 15 mins to 1 hour. This standardization draws down the hype on what could be done to disaggregate independent appliances with smart meter data. Utility companies now offer categorized disaggregation as part of their billing (e.g., EDF does that for my house in France), and also some form of comparative analysis (such as how I fared in terms of consumption when compared to an average household of similar size/occupancy ratio). There are a lot of innovative insights that can be gleaned out of the data collected. For example, see this [talk where a NILM expert Katie Russell](https://www.youtube.com/watch?v=80M3zZHFa40) from the UK energy seller OVO talks about their experiences. But as such, they are more from the presentation point of view, not from the point of view of the processing.\n",
    "\n",
    "This is one reason why some companies have ended up acquiring NILM providers (say Oracle's acquisition of [Opower](https://en.wikipedia.org/wiki/Opower), [Phoenix Contact](https://www.phoenixcontact.com/) acquiring [SmartB Gmbh](https://www.smartb.de/home/)). For this helps shore up a market that is growing, but also with a technical solution that is more or less mature.\n",
    "\n",
    "While several companies still sell NILM solution to utilities (See, for example, [Bidgely](https://www.bidgely.com/), [Onzo](https://www.onzo.com/)), and some still try to entice consumers with custom solutions (see, for example, [Loop](https://loop.homes/), [Sense](https://sense.com/)), I feel that the limits on the insight one can derive out of a fairly low sampling rate has been reached. \n",
    "\n"
   ]
  },
  {
   "cell_type": "markdown",
   "metadata": {},
   "source": [
    "\n",
    "\n",
    "## The pivot to commercial and large buildings\n",
    "\n",
    "The custom solutions that several companies proposed can help in getting more insights about consumption and appliances. But these are enticing only if one has special considerations (e.g., a large house, tech-savvy individuals). While this is not necessarily a minuscule market, there is a different spin to it.\n",
    "\n",
    "These custom metering solutions (such as high-frequency sampling rate meters), however, were developed with enterprises and large infrastructures in mind. For one, the newer standards on energy efficiency requirements are motivating large organizations to invest in these solutions. Some even get financial support from governments as part of carbon emission reduction initiatives. Secondly, the custom solutions open up a myriad number of insights about the appliances and electrical equipment connected to the power meter. Some companies that are working on are:\n",
    "\n",
    "* [watt-is](https://watt-is.com/) offers two solutions.  \n",
    "* [Verdigris](https://verdigris.co/) mostly focus on large, smart buildings. \n",
    "* [PlotWatt](https://www.plotwatt.com/), which provides analytics services in a meter-agnostic way has a variety of domains it serves. \n",
    "* [Smart Impulse](htpps://smart-impulse.com/) provides services to large buildings and infrastructure.\n",
    "\n",
    "Some other companies in this line include [Powersavvy](http://www.powersavvy.ie/), [Wattics](https://www.wattics.com/).\n"
   ]
  },
  {
   "cell_type": "markdown",
   "metadata": {},
   "source": [
    "\n",
    "## The IoT bandwagon\n",
    "\n",
    "One other approach some organizations are trying to bring NILM to consumers is to jump on IoT bandwagon. For example, [Verv](https://verv.energy/) is proposing the use of an embedded NILM enabled solution to be added to an appliance such as a washing machine. This can enable aspects like prognosis and reparation easier. [Informetis](https://www.informetis.com/en/) has, apart from Energy disaggregation and data mining as part of their technology solution, have an IoT platform where NILM is part of the solution."
   ]
  },
  {
   "cell_type": "markdown",
   "metadata": {},
   "source": [
    "## Some Final Thoughts\n",
    "There are some companies in the original list that are missing, some other companies that did not exist then, came on and disappeared. But many have persisted, either in their original form or being acquired by a larger organization. And this is an indication that this field is flourishing. On the one hand, I have my doubts on the need to connect every appliance to the Internet (due mostly to the security implications), but I'm definitely game to make them smarter, make them more efficient through a lot more intelligent maintenance and hence reducing a lot of waste.\n"
   ]
  }
 ],
 "metadata": {
  "kernelspec": {
   "display_name": "Python (nilmtk)",
   "language": "python",
   "name": "nilmtk-env"
  },
  "language_info": {
   "codemirror_mode": {
    "name": "ipython",
    "version": 3
   },
   "file_extension": ".py",
   "mimetype": "text/x-python",
   "name": "python",
   "nbconvert_exporter": "python",
   "pygments_lexer": "ipython3",
   "version": "3.6.12"
  },
  "latex_envs": {
   "LaTeX_envs_menu_present": true,
   "autoclose": false,
   "autocomplete": true,
   "bibliofile": "biblio.bib",
   "cite_by": "apalike",
   "current_citInitial": 1,
   "eqLabelWithNumbers": true,
   "eqNumInitial": 1,
   "hotkeys": {
    "equation": "Ctrl-E",
    "itemize": "Ctrl-I"
   },
   "labels_anchors": false,
   "latex_user_defs": false,
   "report_style_numbering": false,
   "user_envs_cfg": false
  },
  "toc": {
   "base_numbering": 1,
   "nav_menu": {},
   "number_sections": true,
   "sideBar": true,
   "skip_h1_title": false,
   "title_cell": "Table of Contents",
   "title_sidebar": "Contents",
   "toc_cell": false,
   "toc_position": {},
   "toc_section_display": true,
   "toc_window_display": false
  }
 },
 "nbformat": 4,
 "nbformat_minor": 4
}
