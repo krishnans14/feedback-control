{
 "cells": [
  {
   "cell_type": "markdown",
   "metadata": {},
   "source": [
    "# \"Project SPHEREAU\"\n",
    "> \"A short, brief summary of various aspects that went through my post doctoral research project\"\n",
    "\n",
    "- toc:true\n",
    "- branch: master\n",
    "- badges: false\n",
    "- comments: true\n",
    "- author: Krishnan Srinivasarengan\n",
    "- categories: [projects]"
   ]
  },
  {
   "cell_type": "markdown",
   "metadata": {},
   "source": [
    "_powered by [fastpages](https://github.com/fastai/fastpages)_"
   ]
  },
  {
   "cell_type": "markdown",
   "metadata": {},
   "source": [
    "## Prelude\n",
    "\n",
    "In general, short post-doc research work is expected to be hyper-focused. This is because it is not easy for a candidate to look for an open problem, solve it and make it work within whatever short period available. The 1.5 years or so I spent for my postdoc at the CRAN lab had other ideas. When I started, it was not believed that we would have anything interesting and *publishable* out of it. So I had a lot less pressure and I went around looking for different ways to visualize the problem and chanced upon one interesting approach. This is a summary of what happened there in semi-technical terms. Of course, peer review would let us know if what we think is interesting is indeed so, but I can look back and say we came up with an interesting solution and got an interesting story to tell.\n",
    "\n",
    "\n",
    "## Background\n",
    "\n",
    "The [project SPHEREAU](https://www.hydreos.fr/projets/sphereau/44.html), a French abbreviation (Solutions de Programmation Hiérarchisée pour l’Efficience des Réseaux d’EAU), is a French government-funded collaborative project guided by the HYDREOS group. This project brought together the following industry and academic groups to develop a method to bring more energy efficiency to water distribution networks:\n",
    "\n",
    "\n",
    "* Université de Lorraine (CRAN lab)\n",
    "* ENGEES (Strasbourg)\n",
    "* SAUR\n",
    "* TLG Pro\n",
    "* IRH Ingénieur Conseil (ANTEA Group)\n",
    "\n",
    "My post doctoral research work was funded by this project. The work packages in which our team (CRAN) was involved in  were:\n",
    "* Data-based model development\n",
    "* Leak estimation"
   ]
  },
  {
   "cell_type": "markdown",
   "metadata": {},
   "source": [
    "## Main Challenges"
   ]
  },
  {
   "cell_type": "markdown",
   "metadata": {},
   "source": [
    "Fairly straightforward, one may think. Throw whatever sensor data available to a machine learning algorithm, it will spit out a model. Then do some anomaly detection to get the leaks. Done."
   ]
  },
  {
   "cell_type": "markdown",
   "metadata": {},
   "source": [
    "> Warning: Not so fast when you deal with real-world data\n"
   ]
  },
  {
   "cell_type": "markdown",
   "metadata": {},
   "source": [
    "Of course, real-world data has problems. Missing data, some mis-labelled data and so on are the bread and butter of data scientists. But, there was more:\n",
    "\n",
    "1. Only operational data was available. Meaning, we can't train a model to understand *normal* behaviour and *leaky* behaviour.\n",
    "1. No ground truth and no labelling of leaks or other anomalies.\n",
    "1. The Sensor data could be missing for prolonged periods. And there were multiplicative and drift errors in Sensor data."
   ]
  },
  {
   "cell_type": "markdown",
   "metadata": {},
   "source": [
    "> Important: Explain your predictions"
   ]
  },
  {
   "cell_type": "markdown",
   "metadata": {},
   "source": [
    "## What's the idea to describe it here?\n",
    "\n",
    "I want to see this as an example of how traditional control theory discipline can aid in the use of machine learning tools for engineering applications. We made use of the civil engineering domain background, graph theory, some good old linear algebra to augment the Machine learning model to create a nice recipe for an explainable estimation of the leaks.\n",
    "\n",
    "This I think is how a Post-Modern-Control-Engineer (or PoMoCoE) be pacified by the use of his skills in aiding the advancing Machine learning Tsunami and not be washed away by it.\n",
    "\n",
    "And it also clearly shows that almost all the skills a control engineer holds are transferable with the integration of Machine Learning workflow."
   ]
  },
  {
   "cell_type": "markdown",
   "metadata": {},
   "source": [
    "## Exploratory Data Analysis and Feature Selection\n"
   ]
  },
  {
   "cell_type": "markdown",
   "metadata": {},
   "source": [
    "\n",
    "### Understanding available Sensor Data \n",
    "The data available from the sites were from the following sensors:\n",
    "* Flow sensors\n",
    "* Tank Level sensors\n",
    "* Several other quality analysis sensors\n",
    "\n",
    "From the perspective of leak detection, the water quality sensors aren't useful and hence we focus only on the flow and tank sensors. The sensors were available at sampling rates between 15 minutes and 1 hour (not counting missing data) depending upon when/where a sensor is installed.\n",
    "\n",
    "We had to hunt for sensors for which data was available over a long period of time. And perhaps, data available for a group of sensors topological close to each other (and hence connected). After analyzing 100+ sensors we focused on a few of them to develop and illustrate the approach and then generalize it.\n",
    "\n",
    "During this data analysis, we made note of a number of things that were not explicitly based on what the technicians could share with us:\n",
    "* Some sensor data had weird inverted characteristics and the data needed some pre-processing to even make it *look* reasonable.\n",
    "* Data resolution capabilities of some sensors were not good and led to an oscillatory behaviour with sensor data oscillating between two quantization states.\n",
    "* Sensors appeared to have been changed during the period for which the data was available and displayed different characteristics.\n",
    "\n",
    "These aspects further reduced the sensors that we focused on.\n"
   ]
  },
  {
   "cell_type": "markdown",
   "metadata": {},
   "source": [
    "\n",
    "### Feature Selection/Engineering\n",
    "Target: Flow\n",
    "Features available: Timestamp\n",
    "We are modelling the consumption characteristics of villages and groups of villages and are using the flow sensors (and if available, level sensors). Modelling it purely as a time-series data isn't viable because of the following challenges:\n",
    "* Nonlinear characteristics of the data\n",
    "* Presence of unknown disturbances (Sensor faults, Leaks)\n",
    "* Presence of systemic changes (Addition of new water consumers, characteristic change due to vacations, etc.)\n",
    "\n",
    "We first started looking for features that we can help in modelling the behaviour of the water network users. These can be split into three categories (apart from that of data):\n",
    "1. The temporal features\n",
    "1. The meteorological features\n",
    "1. The social features\n",
    "\n",
    "\n",
    "1. **Temporal Features**: Extracting features from the time stamp associated with the sensor data is the obvious first step.\n",
    "    * Time of the day\n",
    "    * Day of the week\n",
    "    * Weekend or Weekday   \n",
    "\n",
    "1. **Meteorological Features** Using some publicly available data sets, we collected several meteorological features:\n",
    "    * Temperature (per day: average, minimum, maximum )\n",
    "    * Humidity (per day: average)\n",
    "    * Precipitation (day sum)\n",
    "\n",
    "1. **Social Features** Again, using some publicly available details about France and in particular the region GrandEst where the villages are situated, we gathered the following features:\n",
    "    * Holidays\n",
    "    * School vacations\n",
    "\n",
    "#### Post-Exploratory data analysis\n",
    "1. Instead of having two separate features like a day of the week and weekend/weekday, we did what is referred to as *feature engineering*. We numbered the days of the week from 1 to 5 for the weekdays and 14 and 15 for the weekends.\n",
    "1. Only the temperature data from the weather features were retained.\n",
    "1. There were other social details we wanted to integrate (such as the 'Bridge' vacation that the French routinely takes by taking a day off on Friday/Monday when there is a holiday on Thursday/Tuesday respectively). However, this was abandoned after some initial attempts.\n"
   ]
  },
  {
   "cell_type": "markdown",
   "metadata": {},
   "source": [
    "## Building a Machine-learning model"
   ]
  },
  {
   "cell_type": "markdown",
   "metadata": {},
   "source": [
    "### Model selection and constraining\n",
    "The choice of model was tricky. Given that we are relying on *features* instead of *inputs*, the model, a black box machine learning model made sense. The following constraints drove the direction of choosing the model:\n",
    "\n",
    "* Nonlinear characteristics\n",
    "* Lack of ground truth\n",
    "* Presence of outliers in the training data (leaks, sensors faults)\n",
    "\n",
    "The lack of ground truth ruled out a neural network model. An SVM model has the capability to not worry too much about outliers and has the capability to learn any nonlinearity if an appropriate kernel is chosen (Radial Basis Function - RBF). To this, we decided to throw in another comfort\n",
    "\n",
    "* Constraining the model through domain knowledge\n",
    "\n",
    "That is, instead of an automatic learning algorithm to learn the hyperparameters and the parameters of the model, the hyperparameters were fixed. This would seem the solution is less generic (true), but would however work better for this specific case (also true).\n",
    "\n"
   ]
  },
  {
   "cell_type": "markdown",
   "metadata": {},
   "source": [
    "> Note: The winner is: A hyperparameter-constrained SVM-Regression with RBF Kernel\n"
   ]
  },
  {
   "cell_type": "markdown",
   "metadata": {},
   "source": [
    "\n",
    "### Model training\n",
    "\n",
    "With all the above set up, the training of the model run smoothly. To avoid overfitting, a regularisation kernel is also computed and is used as part of the model training.\n",
    "The key sequences can be summarized as:\n",
    "\n",
    "1. The data and the characteristics are preprocessed to give out neatly manageable inputs and outputs.\n",
    "```\n",
    "sensor_data, features = preprocessing(raw_data, characteristics)\n",
    "```\n",
    "1. The Kernels are then computed using the model constraints (by fixing the hyperparameters, `rbd_nodes` and `rbd_sigma`)\n",
    "```\n",
    "kernel, kernel_reg = computer_kernel_rbf(features, rbf_nodes, rbf_sigma)\n",
    "```\n",
    "1. With the Kernels in place, we just run a simple regularized linear regression to obtain the kernel parameters\n",
    "```\n",
    "kernel_parameters = calculate_kernel_parameters(kernel, kernel_reg, sensor_data)\n",
    "```\n",
    "\n",
    "Once we have the model, we predict the flow data such that we can then use it to generate simulated data"
   ]
  },
  {
   "cell_type": "markdown",
   "metadata": {},
   "source": [
    "## Topological model of the Water Network\n",
    "\n",
    "Why do we need a topological model? Because we need to find a way to distinguish between the leaks and sensor faults using the relationship between the sensors due to their positioning.\n",
    "\n",
    "### Graph equivalent through Electrical analogy\n",
    "\n",
    "We first developed a simple electrical circuit equivalent for the sensor network. The flow sensor would be replaced by current sensors, the consumption points would be replaced by resistances (connected to ground). (The capacitances would help to model the water tanks, but this was not included in the results). \n",
    "\n",
    "A graph equivalent model was derived from this electrical equivalent circuit with a novelty, where the flow or the measurement is represented by edges and the consumption points represented by nodes. This is quite contrary to the traditional modelling approach but served well for our purpose.\n",
    "\n",
    "We then used this graph and added representations for leaks ($\\mathcal{L}$) and sensor faults ($\\mathcal{D}$). Both these anomalies were represented as edges with appropriate colouring. The transformation from the WDN to the graph to analyse for the next step is given in the following images\n",
    "\n",
    "![](./../images/sphereau/wdn.png)\n",
    "\n",
    "\n",
    "![](./../images/sphereau/wdn_electrical.png)\n",
    "\n",
    "\n",
    "![](./../images/sphereau/graph.png)\n",
    "\n",
    "\n",
    "![](./../images/sphereau/graph_for_analysis.png)\n",
    "\n",
    "\n",
    "Note that, we are assuming in Fig 5 that all the nodes have a leak and sensor faults. This is not necessarily the case in practice (and we will come to that), but is shown just for the sake of illustration.\n"
   ]
  },
  {
   "cell_type": "markdown",
   "metadata": {},
   "source": [
    "\n",
    "### Simultaneous detectability of Sensor faults and Leaks\n",
    "\n",
    "The graph in Fig 5 is monstrous despite the caveat that we are considering leaks and faults in all the nodes. However, this is true in situations where we are trying to find when we don't know otherwise, that is when we have to distinguish between sensor faults and leaks.\n",
    "\n",
    "Our question hence was, can we derive conditions to distinguish between a fault and a leak and when. \n"
   ]
  },
  {
   "cell_type": "markdown",
   "metadata": {},
   "source": [
    "\n",
    "> Note: We prove this is under a specific graph condition which is pretty easy to check  \n"
   ]
  },
  {
   "cell_type": "markdown",
   "metadata": {},
   "source": [
    "Now, what happened as a bonus was, this condition helped us to actually obtain a neat strategy to estimate leaks as discussed in the next section.\n",
    "\n",
    "What are the steps to verify this ability to distinguish sensor faults and leaks?\n",
    "\n",
    "1. partition the graph into subgraphs, \n",
    "1. Verify if the subgraph containing the node 0 is a tree.\n",
    "\n",
    "Yep, that's it. So how do we do it? or rather what is the trick?\n",
    "\n",
    "* We equate detectability to the solvability of the equations represented by the graph (this is a very fundamental requirement, so true. The caveat is that it is very conservative. Well, fortunately for us, it does not matter because of the bonus).\n",
    "\n",
    "Final bonus: Checking whether a subgraph is a tree is super fast ($\\mathbf{O}(n)$ in complexity parlance)"
   ]
  },
  {
   "cell_type": "markdown",
   "metadata": {},
   "source": [
    "## The Leak Estimation Strategy\n",
    "\n",
    "Given a large water distribution network and its graph, we partition into several subgraphs. This is necessitated because, on large networks, the amplitude of flow measured by sensors sitting on top of trees can become insensitive to leaks and faults in sensors downstream.\n",
    "\n",
    "This allows us to analyze the sub-regions of a water distribution network and apply the simultaneous detectability results. \n",
    "1. Consider all possible leak and sensor fault combinations\n",
    "1. Obtain those combinations that are distinguishable using the detectability results\n",
    "\n",
    "This is an offline process and needs to be done once. And for online,\n",
    "\n",
    "1. Solve a simple linear equation Ax = b (x contains both leaks and sensor faults) \n",
    "1. Apply positivity constraints on leaks\n",
    "1. Compute the $\\mathbb{L}_1$ norm\n",
    "1. Output: The combination(s) of leaks and faults presenting the smallest norm.\n",
    "\n",
    "This algorithm essentially reproduces LASSO, with one extra advantage. Since several combinations can have the smallest norm (it happens more than we imagine, especially when there are sensor faults), we can estimate leaks not as a single point, but as a range. This would help the engineer to make a better decision and explains the underlying process better."
   ]
  },
  {
   "cell_type": "markdown",
   "metadata": {},
   "source": [
    "## Concluding Remarks \n",
    "Our paper has been submitted for review and the draft version can be accessed in this archive link [arXiv:2007.09401](https://arxiv.org/abs/2007.09401)"
   ]
  }
 ],
 "metadata": {
  "kernelspec": {
   "display_name": "Python 3",
   "language": "python",
   "name": "python3"
  },
  "language_info": {
   "codemirror_mode": {
    "name": "ipython",
    "version": 3
   },
   "file_extension": ".py",
   "mimetype": "text/x-python",
   "name": "python",
   "nbconvert_exporter": "python",
   "pygments_lexer": "ipython3",
   "version": "3.8.5"
  },
  "toc": {
   "base_numbering": 1,
   "nav_menu": {},
   "number_sections": true,
   "sideBar": true,
   "skip_h1_title": false,
   "title_cell": "Table of Contents",
   "title_sidebar": "Contents",
   "toc_cell": false,
   "toc_position": {},
   "toc_section_display": true,
   "toc_window_display": false
  }
 },
 "nbformat": 4,
 "nbformat_minor": 4
}
